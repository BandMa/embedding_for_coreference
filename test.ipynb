{
 "cells": [
  {
   "cell_type": "code",
   "execution_count": 4,
   "metadata": {},
   "outputs": [],
   "source": [
    "a = {\"user_utt\": [\"yes\", \",\", \"i\", \"'\", \"ll\", \"need\", \"a\", \"taxi\", \"from\", \"the\", \"restaurant\", \"to\", \"the\", \"hotel\", \".\", \"i\", \"want\", \"to\", \"leave\", \"the\", \"restaurant\", \"by\", \"18\", \":\", \"30\", \".\"], \"system_utt\": [\"is\", \"there\", \"anything\", \"further\", \"that\", \"i\", \"can\", \"assist\", \"you\", \"with\", \"today\", \"?\"]}\n",
    "user = ' '.join(a['user_utt'])\n",
    "sys = ' '.join(a['system_utt'])\n"
   ]
  },
  {
   "cell_type": "code",
   "execution_count": 5,
   "metadata": {},
   "outputs": [
    {
     "data": {
      "text/plain": [
       "\"yes , i ' ll need a taxi from the restaurant to the hotel . i want to leave the restaurant by 18 : 30 .\""
      ]
     },
     "execution_count": 5,
     "metadata": {},
     "output_type": "execute_result"
    }
   ],
   "source": [
    "user"
   ]
  },
  {
   "cell_type": "code",
   "execution_count": 6,
   "metadata": {},
   "outputs": [
    {
     "data": {
      "text/plain": [
       "'is there anything further that i can assist you with today ?'"
      ]
     },
     "execution_count": 6,
     "metadata": {},
     "output_type": "execute_result"
    }
   ],
   "source": [
    "sys"
   ]
  },
  {
   "cell_type": "code",
   "execution_count": 7,
   "metadata": {},
   "outputs": [
    {
     "data": {
      "text/plain": [
       "{'restaurant-food': 'gastropub',\n",
       " 'restaurant-area': 'centre',\n",
       " 'restaurant-pricerange': 'moderate',\n",
       " 'taxi-departure': 'cow pizza kitchen and bar',\n",
       " 'hotel-stars': '4',\n",
       " 'hotel-parking': 'yes',\n",
       " 'hotel-name': 'allenbell'}"
      ]
     },
     "execution_count": 7,
     "metadata": {},
     "output_type": "execute_result"
    }
   ],
   "source": [
    "a = {\"diag_seen_slots\": {\"restaurant-food\": \"gastropub\", \"restaurant-area\": \"centre\", \"restaurant-pricerange\": \"moderate\", \"taxi-departure\": \"cow pizza kitchen and bar\", \"hotel-stars\": \"4\", \"hotel-parking\": \"yes\", \"hotel-name\": \"allenbell\"}, \"class_type\": {\"hotel-pricerange\": \"none\", \"hotel-type\": \"none\", \"hotel-parking\": \"none\", \"hotel-bookday\": \"none\", \"hotel-bookpeople\": \"none\", \"hotel-bookstay\": \"none\", \"hotel-stars\": \"none\", \"hotel-internet\": \"none\", \"hotel-name\": \"none\", \"hotel-area\": \"none\", \"hotel-address\": \"none\", \"hotel-phone\": \"none\", \"hotel-postcode\": \"none\", \"hotel-ref\": \"none\", \"train-arriveby\": \"none\", \"train-departure\": \"none\", \"train-day\": \"none\", \"train-bookpeople\": \"none\", \"train-leaveat\": \"none\", \"train-destination\": \"none\", \"train-trainid\": \"none\", \"train-ref\": \"none\", \"train-price\": \"none\", \"train-duration\": \"none\", \"attraction-area\": \"none\", \"attraction-name\": \"none\", \"attraction-type\": \"none\", \"attraction-entrancefee\": \"none\", \"attraction-openhours\": \"none\", \"attraction-address\": \"none\", \"attraction-phone\": \"none\", \"attraction-postcode\": \"none\", \"restaurant-pricerange\": \"none\", \"restaurant-area\": \"none\", \"restaurant-food\": \"none\", \"restaurant-name\": \"none\", \"restaurant-bookday\": \"none\", \"restaurant-bookpeople\": \"none\", \"restaurant-booktime\": \"none\", \"restaurant-address\": \"none\", \"restaurant-phone\": \"none\", \"restaurant-postcode\": \"none\", \"restaurant-ref\": \"none\", \"hospital-department\": \"none\", \"hospital-address\": \"none\", \"hospital-phone\": \"none\", \"hospital-postcode\": \"none\", \"taxi-leaveat\": \"copy_value\", \"taxi-destination\": \"refer\", \"taxi-departure\": \"none\", \"taxi-arriveby\": \"none\", \"taxi-type\": \"none\", \"taxi-phone\": \"none\", \"bus-departure\": \"none\", \"bus-destination\": \"none\", \"bus-leaveat\": \"none\", \"bus-day\": \"none\", \"police-address\": \"none\", \"police-phone\": \"none\", \"police-postcode\": \"none\", \"police-name\": \"none\"}, \"referred\": {\"hotel-pricerange\": \"none\", \"hotel-type\": \"none\", \"hotel-parking\": \"none\", \"hotel-bookday\": \"none\", \"hotel-bookpeople\": \"none\", \"hotel-bookstay\": \"none\", \"hotel-stars\": \"none\", \"hotel-internet\": \"none\", \"hotel-name\": \"none\", \"hotel-area\": \"none\", \"hotel-address\": \"none\", \"hotel-phone\": \"none\", \"hotel-postcode\": \"none\", \"hotel-ref\": \"none\", \"train-arriveby\": \"none\", \"train-departure\": \"none\", \"train-day\": \"none\", \"train-bookpeople\": \"none\", \"train-leaveat\": \"none\", \"train-destination\": \"none\", \"train-trainid\": \"none\", \"train-ref\": \"none\", \"train-price\": \"none\", \"train-duration\": \"none\", \"attraction-area\": \"none\", \"attraction-name\": \"none\", \"attraction-type\": \"none\", \"attraction-entrancefee\": \"none\", \"attraction-openhours\": \"none\", \"attraction-address\": \"none\", \"attraction-phone\": \"none\", \"attraction-postcode\": \"none\", \"restaurant-pricerange\": \"none\", \"restaurant-area\": \"none\", \"restaurant-food\": \"none\", \"restaurant-name\": \"none\", \"restaurant-bookday\": \"none\", \"restaurant-bookpeople\": \"none\", \"restaurant-booktime\": \"none\", \"restaurant-address\": \"none\", \"restaurant-phone\": \"none\", \"restaurant-postcode\": \"none\", \"restaurant-ref\": \"none\", \"hospital-department\": \"none\", \"hospital-address\": \"none\", \"hospital-phone\": \"none\", \"hospital-postcode\": \"none\", \"taxi-leaveat\": \"none\", \"taxi-destination\": \"hotel-name\", \"taxi-departure\": \"none\", \"taxi-arriveby\": \"none\", \"taxi-type\": \"none\", \"taxi-phone\": \"none\", \"bus-departure\": \"none\", \"bus-destination\": \"none\", \"bus-leaveat\": \"none\", \"bus-day\": \"none\", \"police-address\": \"none\", \"police-phone\": \"none\", \"police-postcode\": \"none\", \"police-name\": \"none\"}}\n",
    "a['diag_seen_slots']"
   ]
  },
  {
   "cell_type": "code",
   "execution_count": 8,
   "metadata": {},
   "outputs": [
    {
     "data": {
      "text/plain": [
       "dict_keys(['diag_seen_slots', 'class_type', 'referred'])"
      ]
     },
     "execution_count": 8,
     "metadata": {},
     "output_type": "execute_result"
    }
   ],
   "source": [
    "a.keys()"
   ]
  },
  {
   "cell_type": "code",
   "execution_count": 9,
   "metadata": {},
   "outputs": [
    {
     "data": {
      "text/plain": [
       "{'taxi-destination': 'hotel-name'}"
      ]
     },
     "execution_count": 9,
     "metadata": {},
     "output_type": "execute_result"
    }
   ],
   "source": [
    "b = {k:v for k,v in a['referred'].items() if v != 'none'}\n",
    "b"
   ]
  },
  {
   "cell_type": "code",
   "execution_count": 17,
   "metadata": {},
   "outputs": [
    {
     "data": {
      "text/plain": [
       "tensor([6])"
      ]
     },
     "execution_count": 17,
     "metadata": {},
     "output_type": "execute_result"
    }
   ],
   "source": [
    "import torch\n",
    "\n",
    "a = torch.tensor([6])\n",
    "a"
   ]
  },
  {
   "cell_type": "code",
   "execution_count": 18,
   "metadata": {},
   "outputs": [
    {
     "data": {
      "text/plain": [
       "6"
      ]
     },
     "execution_count": 18,
     "metadata": {},
     "output_type": "execute_result"
    }
   ],
   "source": [
    "a.item()"
   ]
  },
  {
   "cell_type": "code",
   "execution_count": 2,
   "metadata": {},
   "outputs": [],
   "source": [
    "a = {'hotel-pricerange': 2043,\n",
    " 'hotel-type': 2125,\n",
    " 'hotel-parking': 1526,\n",
    " 'hotel-bookday': 2143,\n",
    " 'hotel-bookpeople': 2133,\n",
    " 'hotel-bookstay': 2392,\n",
    " 'hotel-stars': 1774,\n",
    " 'hotel-internet': 1464,\n",
    " 'hotel-name': 3185,\n",
    " 'hotel-area': 2160,\n",
    " 'hotel-address': 0,\n",
    " 'hotel-phone': 0,\n",
    " 'hotel-postcode': 0,\n",
    " 'hotel-ref': 0,\n",
    " 'train-arriveby': 1577,\n",
    " 'train-departure': 2916,\n",
    " 'train-day': 2878,\n",
    " 'train-bookpeople': 1679,\n",
    " 'train-leaveat': 1678,\n",
    " 'train-destination': 2952,\n",
    " 'train-trainid': 0,\n",
    " 'train-ref': 0,\n",
    " 'train-price': 0,\n",
    " 'train-duration': 0,\n",
    " 'attraction-area': 1884,\n",
    " 'attraction-name': 1800,\n",
    " 'attraction-type': 2353,\n",
    " 'attraction-entrancefee': 0,\n",
    " 'attraction-openhours': 0,\n",
    " 'attraction-address': 0,\n",
    " 'attraction-phone': 0,\n",
    " 'attraction-postcode': 0,\n",
    " 'restaurant-pricerange': 2801,\n",
    " 'restaurant-area': 2874,\n",
    " 'restaurant-food': 4072,\n",
    " 'restaurant-name': 3315,\n",
    " 'restaurant-bookday': 2124,\n",
    " 'restaurant-bookpeople': 2099,\n",
    " 'restaurant-booktime': 2365,\n",
    " 'restaurant-address': 0,\n",
    " 'restaurant-phone': 0,\n",
    " 'restaurant-postcode': 0,\n",
    " 'restaurant-ref': 0,\n",
    " 'hospital-department': 110,\n",
    " 'hospital-address': 0,\n",
    " 'hospital-phone': 0,\n",
    " 'hospital-postcode': 0,\n",
    " 'taxi-leaveat': 840,\n",
    " 'taxi-destination': 1533,\n",
    " 'taxi-departure': 1556,\n",
    " 'taxi-arriveby': 681,\n",
    " 'taxi-type': 0,\n",
    " 'taxi-phone': 0,\n",
    " 'bus-departure': 4,\n",
    " 'bus-destination': 7,\n",
    " 'bus-leaveat': 1,\n",
    " 'bus-day': 1,\n",
    " 'police-address': 0,\n",
    " 'police-phone': 0,\n",
    " 'police-postcode': 0,\n",
    " 'police-name': 0}"
   ]
  },
  {
   "cell_type": "code",
   "execution_count": 3,
   "metadata": {},
   "outputs": [
    {
     "data": {
      "text/plain": [
       "{'hotel-pricerange': 2043,\n",
       " 'hotel-type': 2125,\n",
       " 'hotel-parking': 1526,\n",
       " 'hotel-bookday': 2143,\n",
       " 'hotel-bookpeople': 2133,\n",
       " 'hotel-bookstay': 2392,\n",
       " 'hotel-stars': 1774,\n",
       " 'hotel-internet': 1464,\n",
       " 'hotel-name': 3185,\n",
       " 'hotel-area': 2160,\n",
       " 'train-arriveby': 1577,\n",
       " 'train-departure': 2916,\n",
       " 'train-day': 2878,\n",
       " 'train-bookpeople': 1679,\n",
       " 'train-leaveat': 1678,\n",
       " 'train-destination': 2952,\n",
       " 'attraction-area': 1884,\n",
       " 'attraction-name': 1800,\n",
       " 'attraction-type': 2353,\n",
       " 'restaurant-pricerange': 2801,\n",
       " 'restaurant-area': 2874,\n",
       " 'restaurant-food': 4072,\n",
       " 'restaurant-name': 3315,\n",
       " 'restaurant-bookday': 2124,\n",
       " 'restaurant-bookpeople': 2099,\n",
       " 'restaurant-booktime': 2365,\n",
       " 'hospital-department': 110,\n",
       " 'taxi-leaveat': 840,\n",
       " 'taxi-destination': 1533,\n",
       " 'taxi-departure': 1556,\n",
       " 'taxi-arriveby': 681,\n",
       " 'bus-departure': 4,\n",
       " 'bus-destination': 7,\n",
       " 'bus-leaveat': 1,\n",
       " 'bus-day': 1}"
      ]
     },
     "execution_count": 3,
     "metadata": {},
     "output_type": "execute_result"
    }
   ],
   "source": [
    "b = {k:v for k,v in a.items() if v != 0}\n",
    "b"
   ]
  },
  {
   "cell_type": "code",
   "execution_count": 5,
   "metadata": {},
   "outputs": [
    {
     "data": {
      "text/plain": [
       "['hotel-pricerange',\n",
       " 'hotel-type',\n",
       " 'hotel-parking',\n",
       " 'hotel-bookday',\n",
       " 'hotel-bookpeople',\n",
       " 'hotel-bookstay',\n",
       " 'hotel-stars',\n",
       " 'hotel-internet',\n",
       " 'hotel-name',\n",
       " 'hotel-area',\n",
       " 'train-arriveby',\n",
       " 'train-departure',\n",
       " 'train-day',\n",
       " 'train-bookpeople',\n",
       " 'train-leaveat',\n",
       " 'train-destination',\n",
       " 'attraction-area',\n",
       " 'attraction-name',\n",
       " 'attraction-type',\n",
       " 'restaurant-pricerange',\n",
       " 'restaurant-area',\n",
       " 'restaurant-food',\n",
       " 'restaurant-name',\n",
       " 'restaurant-bookday',\n",
       " 'restaurant-bookpeople',\n",
       " 'restaurant-booktime',\n",
       " 'hospital-department',\n",
       " 'taxi-leaveat',\n",
       " 'taxi-destination',\n",
       " 'taxi-departure',\n",
       " 'taxi-arriveby',\n",
       " 'bus-departure',\n",
       " 'bus-destination',\n",
       " 'bus-leaveat',\n",
       " 'bus-day']"
      ]
     },
     "execution_count": 5,
     "metadata": {},
     "output_type": "execute_result"
    }
   ],
   "source": [
    "list(b.keys())"
   ]
  },
  {
   "cell_type": "code",
   "execution_count": 6,
   "metadata": {},
   "outputs": [],
   "source": [
    "import json\n",
    "\n",
    "save_path = 'new_slot_list_delete_useless.json'\n",
    "\n",
    "with open(save_path, 'w', encoding='utf-8') as file_obj:\n",
    "    json_data = json.dumps(list(b.keys()))\n",
    "    file_obj.write(json_data)"
   ]
  },
  {
   "cell_type": "code",
   "execution_count": 7,
   "metadata": {},
   "outputs": [],
   "source": [
    "slot_list = [\"hotel-pricerange\", \"hotel-type\", \"hotel-parking\", \"hotel-bookday\", \"hotel-bookpeople\", \"hotel-bookstay\", \"hotel-stars\", \"hotel-internet\", \"hotel-name\", \"hotel-area\", \n",
    " \"train-arriveby\", \"train-departure\", \"train-day\", \"train-bookpeople\", \"train-leaveat\", \"train-destination\", \n",
    " \"attraction-area\", \"attraction-name\", \"attraction-type\", \n",
    " \"restaurant-pricerange\", \"restaurant-area\", \"restaurant-food\", \"restaurant-name\", \"restaurant-bookday\", \"restaurant-bookpeople\", \"restaurant-booktime\", \n",
    " \"hospital-department\", \n",
    " \"taxi-leaveat\", \"taxi-destination\", \"taxi-departure\", \"taxi-arriveby\", \n",
    " \"bus-departure\", \"bus-destination\", \"bus-leaveat\", \"bus-day\"]"
   ]
  },
  {
   "cell_type": "code",
   "execution_count": 8,
   "metadata": {},
   "outputs": [
    {
     "data": {
      "text/plain": [
       "35"
      ]
     },
     "execution_count": 8,
     "metadata": {},
     "output_type": "execute_result"
    }
   ],
   "source": [
    "len(slot_list)"
   ]
  },
  {
   "cell_type": "code",
   "execution_count": 2,
   "metadata": {},
   "outputs": [
    {
     "ename": "MemoryError",
     "evalue": "",
     "output_type": "error",
     "traceback": [
      "\u001b[1;31m---------------------------------------------------------------------------\u001b[0m",
      "\u001b[1;31mMemoryError\u001b[0m                               Traceback (most recent call last)",
      "\u001b[1;32m<ipython-input-2-d5fee5058946>\u001b[0m in \u001b[0;36m<module>\u001b[1;34m\u001b[0m\n\u001b[0;32m      2\u001b[0m \u001b[0mpath\u001b[0m \u001b[1;33m=\u001b[0m \u001b[1;34m'E:\\实验\\predicted_result_11_20_erfenlei_without_concat.json'\u001b[0m\u001b[1;33m\u001b[0m\u001b[1;33m\u001b[0m\u001b[0m\n\u001b[0;32m      3\u001b[0m \u001b[1;32mwith\u001b[0m \u001b[0mopen\u001b[0m\u001b[1;33m(\u001b[0m\u001b[0mpath\u001b[0m\u001b[1;33m,\u001b[0m \u001b[1;34m'r'\u001b[0m\u001b[1;33m)\u001b[0m \u001b[1;32mas\u001b[0m \u001b[0mfile_obj\u001b[0m\u001b[1;33m:\u001b[0m\u001b[1;33m\u001b[0m\u001b[1;33m\u001b[0m\u001b[0m\n\u001b[1;32m----> 4\u001b[1;33m     \u001b[0mdata\u001b[0m \u001b[1;33m=\u001b[0m \u001b[0mjson\u001b[0m\u001b[1;33m.\u001b[0m\u001b[0mload\u001b[0m\u001b[1;33m(\u001b[0m\u001b[0mfile_obj\u001b[0m\u001b[1;33m)\u001b[0m\u001b[1;33m\u001b[0m\u001b[1;33m\u001b[0m\u001b[0m\n\u001b[0m",
      "\u001b[1;32md:\\Program Files\\Python\\lib\\json\\__init__.py\u001b[0m in \u001b[0;36mload\u001b[1;34m(fp, cls, object_hook, parse_float, parse_int, parse_constant, object_pairs_hook, **kw)\u001b[0m\n\u001b[0;32m    291\u001b[0m     \u001b[0mkwarg\u001b[0m\u001b[1;33m;\u001b[0m \u001b[0motherwise\u001b[0m\u001b[0;31m \u001b[0m\u001b[0;31m`\u001b[0m\u001b[0;31m`\u001b[0m\u001b[0mJSONDecoder\u001b[0m\u001b[0;31m`\u001b[0m\u001b[0;31m`\u001b[0m \u001b[1;32mis\u001b[0m \u001b[0mused\u001b[0m\u001b[1;33m.\u001b[0m\u001b[1;33m\u001b[0m\u001b[1;33m\u001b[0m\u001b[0m\n\u001b[0;32m    292\u001b[0m     \"\"\"\n\u001b[1;32m--> 293\u001b[1;33m     return loads(fp.read(),\n\u001b[0m\u001b[0;32m    294\u001b[0m         \u001b[0mcls\u001b[0m\u001b[1;33m=\u001b[0m\u001b[0mcls\u001b[0m\u001b[1;33m,\u001b[0m \u001b[0mobject_hook\u001b[0m\u001b[1;33m=\u001b[0m\u001b[0mobject_hook\u001b[0m\u001b[1;33m,\u001b[0m\u001b[1;33m\u001b[0m\u001b[1;33m\u001b[0m\u001b[0m\n\u001b[0;32m    295\u001b[0m         \u001b[0mparse_float\u001b[0m\u001b[1;33m=\u001b[0m\u001b[0mparse_float\u001b[0m\u001b[1;33m,\u001b[0m \u001b[0mparse_int\u001b[0m\u001b[1;33m=\u001b[0m\u001b[0mparse_int\u001b[0m\u001b[1;33m,\u001b[0m\u001b[1;33m\u001b[0m\u001b[1;33m\u001b[0m\u001b[0m\n",
      "\u001b[1;31mMemoryError\u001b[0m: "
     ]
    }
   ],
   "source": [
    "import json\n",
    "path = 'E:\\实验\\predicted_result_11_20_erfenlei_without_concat.json'\n",
    "with open(path, 'r') as file_obj:\n",
    "    data = json.load(file_obj)"
   ]
  },
  {
   "cell_type": "code",
   "execution_count": null,
   "metadata": {},
   "outputs": [],
   "source": [
    "data"
   ]
  },
  {
   "cell_type": "code",
   "execution_count": null,
   "metadata": {},
   "outputs": [],
   "source": []
  },
  {
   "cell_type": "code",
   "execution_count": null,
   "metadata": {},
   "outputs": [],
   "source": []
  },
  {
   "cell_type": "code",
   "execution_count": null,
   "metadata": {},
   "outputs": [],
   "source": []
  },
  {
   "cell_type": "code",
   "execution_count": 1,
   "metadata": {},
   "outputs": [],
   "source": [
    "import jsonlines\n",
    "\n",
    "data_list = []\n",
    "data_path = 'D:\\Python4work\\paper_modified_test\\gte_ft_data_test.jsonl'\n",
    "with open(data_path, 'r') as file_obj:\n",
    "    for line in jsonlines.Reader(file_obj):\n",
    "        data_list.append(line)\n",
    "\n",
    "refer_dict = {}\n",
    "for k,v in data_list[0]['referred'].items():\n",
    "    if v != 'none':\n",
    "        refer_dict[k] = v\n",
    "\n",
    "processed_data = []\n",
    "for i in range(len(data_list)):\n",
    "    query = [' '.join(data_list[i]['user_utt']), ' '.join(data_list[i]['system_utt'])][::-1]\n",
    "    refer = {}\n",
    "    for k,v in data_list[i]['referred'].items():\n",
    "        if v != 'none':\n",
    "            refer[k] = v\n",
    "    processed_data.append({'query': query, 'corpus': refer.copy(), 'dialog_seen': data_list[i]['diag_seen_slots']})"
   ]
  },
  {
   "cell_type": "code",
   "execution_count": 3,
   "metadata": {},
   "outputs": [],
   "source": [
    "domain_dict_sta = {}\n",
    "for i in processed_data:\n",
    "    for k in i['corpus'].keys():\n",
    "        domain = k.split('-')[0]\n",
    "        try:\n",
    "            domain_dict_sta[domain] = domain_dict_sta[domain] + 1\n",
    "        except:\n",
    "            domain_dict_sta[domain] = 1"
   ]
  },
  {
   "cell_type": "code",
   "execution_count": 4,
   "metadata": {},
   "outputs": [
    {
     "data": {
      "text/plain": [
       "{'taxi': 210, 'restaurant': 50, 'hotel': 47, 'train': 26, 'attraction': 22}"
      ]
     },
     "execution_count": 4,
     "metadata": {},
     "output_type": "execute_result"
    }
   ],
   "source": [
    "domain_dict_sta"
   ]
  },
  {
   "cell_type": "code",
   "execution_count": 5,
   "metadata": {},
   "outputs": [
    {
     "data": {
      "text/plain": [
       "355"
      ]
     },
     "execution_count": 5,
     "metadata": {},
     "output_type": "execute_result"
    }
   ],
   "source": [
    "sum(list(domain_dict_sta.values()))"
   ]
  },
  {
   "cell_type": "code",
   "execution_count": null,
   "metadata": {},
   "outputs": [],
   "source": [
    "m21 = {}"
   ]
  }
 ],
 "metadata": {
  "kernelspec": {
   "display_name": "Python 3",
   "language": "python",
   "name": "python3"
  },
  "language_info": {
   "codemirror_mode": {
    "name": "ipython",
    "version": 3
   },
   "file_extension": ".py",
   "mimetype": "text/x-python",
   "name": "python",
   "nbconvert_exporter": "python",
   "pygments_lexer": "ipython3",
   "version": "3.9.7"
  }
 },
 "nbformat": 4,
 "nbformat_minor": 2
}
